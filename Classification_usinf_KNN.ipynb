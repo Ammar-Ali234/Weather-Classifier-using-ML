{
  "nbformat": 4,
  "nbformat_minor": 0,
  "metadata": {
    "colab": {
      "provenance": []
    },
    "kernelspec": {
      "name": "python3",
      "display_name": "Python 3"
    },
    "language_info": {
      "name": "python"
    }
  },
  "cells": [
    {
      "cell_type": "markdown",
      "source": [
        "# **Steps are Same as explained into the notebook where i implement this method with the Random Forest Algorithm see my notebook for the REF.**"
      ],
      "metadata": {
        "id": "VybICzMXNuTS"
      }
    },
    {
      "cell_type": "code",
      "source": [
        "from google.colab import drive\n",
        "drive.mount('/content/drive')"
      ],
      "metadata": {
        "id": "srZJPORBHGR_"
      },
      "execution_count": null,
      "outputs": []
    },
    {
      "cell_type": "code",
      "execution_count": null,
      "metadata": {
        "colab": {
          "base_uri": "https://localhost:8080/"
        },
        "id": "gA5SvS_1HBMY",
        "outputId": "213f48a7-c2bf-4883-c9a3-4ff680d8ce25"
      },
      "outputs": [
        {
          "output_type": "stream",
          "name": "stdout",
          "text": [
            "Collecting img2vec-pytorch\n",
            "  Downloading img2vec_pytorch-1.0.1-py3-none-any.whl (6.9 kB)\n",
            "Requirement already satisfied: torch in /usr/local/lib/python3.10/dist-packages (from img2vec-pytorch) (2.3.0+cu121)\n",
            "Requirement already satisfied: torchvision in /usr/local/lib/python3.10/dist-packages (from img2vec-pytorch) (0.18.0+cu121)\n",
            "Requirement already satisfied: numpy in /usr/local/lib/python3.10/dist-packages (from img2vec-pytorch) (1.25.2)\n",
            "Requirement already satisfied: filelock in /usr/local/lib/python3.10/dist-packages (from torch->img2vec-pytorch) (3.14.0)\n",
            "Requirement already satisfied: typing-extensions>=4.8.0 in /usr/local/lib/python3.10/dist-packages (from torch->img2vec-pytorch) (4.12.0)\n",
            "Requirement already satisfied: sympy in /usr/local/lib/python3.10/dist-packages (from torch->img2vec-pytorch) (1.12.1)\n",
            "Requirement already satisfied: networkx in /usr/local/lib/python3.10/dist-packages (from torch->img2vec-pytorch) (3.3)\n",
            "Requirement already satisfied: jinja2 in /usr/local/lib/python3.10/dist-packages (from torch->img2vec-pytorch) (3.1.4)\n",
            "Requirement already satisfied: fsspec in /usr/local/lib/python3.10/dist-packages (from torch->img2vec-pytorch) (2023.6.0)\n",
            "Collecting nvidia-cuda-nvrtc-cu12==12.1.105 (from torch->img2vec-pytorch)\n",
            "  Using cached nvidia_cuda_nvrtc_cu12-12.1.105-py3-none-manylinux1_x86_64.whl (23.7 MB)\n",
            "Collecting nvidia-cuda-runtime-cu12==12.1.105 (from torch->img2vec-pytorch)\n",
            "  Using cached nvidia_cuda_runtime_cu12-12.1.105-py3-none-manylinux1_x86_64.whl (823 kB)\n",
            "Collecting nvidia-cuda-cupti-cu12==12.1.105 (from torch->img2vec-pytorch)\n",
            "  Using cached nvidia_cuda_cupti_cu12-12.1.105-py3-none-manylinux1_x86_64.whl (14.1 MB)\n",
            "Collecting nvidia-cudnn-cu12==8.9.2.26 (from torch->img2vec-pytorch)\n",
            "  Using cached nvidia_cudnn_cu12-8.9.2.26-py3-none-manylinux1_x86_64.whl (731.7 MB)\n",
            "Collecting nvidia-cublas-cu12==12.1.3.1 (from torch->img2vec-pytorch)\n",
            "  Using cached nvidia_cublas_cu12-12.1.3.1-py3-none-manylinux1_x86_64.whl (410.6 MB)\n",
            "Collecting nvidia-cufft-cu12==11.0.2.54 (from torch->img2vec-pytorch)\n",
            "  Using cached nvidia_cufft_cu12-11.0.2.54-py3-none-manylinux1_x86_64.whl (121.6 MB)\n",
            "Collecting nvidia-curand-cu12==10.3.2.106 (from torch->img2vec-pytorch)\n",
            "  Using cached nvidia_curand_cu12-10.3.2.106-py3-none-manylinux1_x86_64.whl (56.5 MB)\n",
            "Collecting nvidia-cusolver-cu12==11.4.5.107 (from torch->img2vec-pytorch)\n",
            "  Using cached nvidia_cusolver_cu12-11.4.5.107-py3-none-manylinux1_x86_64.whl (124.2 MB)\n",
            "Collecting nvidia-cusparse-cu12==12.1.0.106 (from torch->img2vec-pytorch)\n",
            "  Using cached nvidia_cusparse_cu12-12.1.0.106-py3-none-manylinux1_x86_64.whl (196.0 MB)\n",
            "Collecting nvidia-nccl-cu12==2.20.5 (from torch->img2vec-pytorch)\n",
            "  Using cached nvidia_nccl_cu12-2.20.5-py3-none-manylinux2014_x86_64.whl (176.2 MB)\n",
            "Collecting nvidia-nvtx-cu12==12.1.105 (from torch->img2vec-pytorch)\n",
            "  Using cached nvidia_nvtx_cu12-12.1.105-py3-none-manylinux1_x86_64.whl (99 kB)\n",
            "Requirement already satisfied: triton==2.3.0 in /usr/local/lib/python3.10/dist-packages (from torch->img2vec-pytorch) (2.3.0)\n",
            "Collecting nvidia-nvjitlink-cu12 (from nvidia-cusolver-cu12==11.4.5.107->torch->img2vec-pytorch)\n",
            "  Downloading nvidia_nvjitlink_cu12-12.5.40-py3-none-manylinux2014_x86_64.whl (21.3 MB)\n",
            "\u001b[2K     \u001b[90m━━━━━━━━━━━━━━━━━━━━━━━━━━━━━━━━━━━━━━━━\u001b[0m \u001b[32m21.3/21.3 MB\u001b[0m \u001b[31m47.4 MB/s\u001b[0m eta \u001b[36m0:00:00\u001b[0m\n",
            "\u001b[?25hRequirement already satisfied: pillow!=8.3.*,>=5.3.0 in /usr/local/lib/python3.10/dist-packages (from torchvision->img2vec-pytorch) (9.4.0)\n",
            "Requirement already satisfied: MarkupSafe>=2.0 in /usr/local/lib/python3.10/dist-packages (from jinja2->torch->img2vec-pytorch) (2.1.5)\n",
            "Requirement already satisfied: mpmath<1.4.0,>=1.1.0 in /usr/local/lib/python3.10/dist-packages (from sympy->torch->img2vec-pytorch) (1.3.0)\n",
            "Installing collected packages: nvidia-nvtx-cu12, nvidia-nvjitlink-cu12, nvidia-nccl-cu12, nvidia-curand-cu12, nvidia-cufft-cu12, nvidia-cuda-runtime-cu12, nvidia-cuda-nvrtc-cu12, nvidia-cuda-cupti-cu12, nvidia-cublas-cu12, nvidia-cusparse-cu12, nvidia-cudnn-cu12, nvidia-cusolver-cu12, img2vec-pytorch\n",
            "Successfully installed img2vec-pytorch-1.0.1 nvidia-cublas-cu12-12.1.3.1 nvidia-cuda-cupti-cu12-12.1.105 nvidia-cuda-nvrtc-cu12-12.1.105 nvidia-cuda-runtime-cu12-12.1.105 nvidia-cudnn-cu12-8.9.2.26 nvidia-cufft-cu12-11.0.2.54 nvidia-curand-cu12-10.3.2.106 nvidia-cusolver-cu12-11.4.5.107 nvidia-cusparse-cu12-12.1.0.106 nvidia-nccl-cu12-2.20.5 nvidia-nvjitlink-cu12-12.5.40 nvidia-nvtx-cu12-12.1.105\n",
            "Requirement already satisfied: pillow in /usr/local/lib/python3.10/dist-packages (9.4.0)\n",
            "Requirement already satisfied: scikit-learn in /usr/local/lib/python3.10/dist-packages (1.2.2)\n",
            "Requirement already satisfied: numpy>=1.17.3 in /usr/local/lib/python3.10/dist-packages (from scikit-learn) (1.25.2)\n",
            "Requirement already satisfied: scipy>=1.3.2 in /usr/local/lib/python3.10/dist-packages (from scikit-learn) (1.11.4)\n",
            "Requirement already satisfied: joblib>=1.1.1 in /usr/local/lib/python3.10/dist-packages (from scikit-learn) (1.4.2)\n",
            "Requirement already satisfied: threadpoolctl>=2.0.0 in /usr/local/lib/python3.10/dist-packages (from scikit-learn) (3.5.0)\n"
          ]
        },
        {
          "output_type": "stream",
          "name": "stderr",
          "text": [
            "/usr/local/lib/python3.10/dist-packages/torchvision/models/_utils.py:208: UserWarning: The parameter 'pretrained' is deprecated since 0.13 and may be removed in the future, please use 'weights' instead.\n",
            "  warnings.warn(\n",
            "/usr/local/lib/python3.10/dist-packages/torchvision/models/_utils.py:223: UserWarning: Arguments other than a weight enum or `None` for 'weights' are deprecated since 0.13 and may be removed in the future. The current behavior is equivalent to passing `weights=ResNet18_Weights.IMAGENET1K_V1`. You can also use `weights=ResNet18_Weights.DEFAULT` to get the most up-to-date weights.\n",
            "  warnings.warn(msg)\n",
            "Downloading: \"https://download.pytorch.org/models/resnet18-f37072fd.pth\" to /root/.cache/torch/hub/checkpoints/resnet18-f37072fd.pth\n",
            "100%|██████████| 44.7M/44.7M [00:00<00:00, 143MB/s]\n"
          ]
        },
        {
          "output_type": "stream",
          "name": "stdout",
          "text": [
            "Accuracy: 0.9459459459459459\n"
          ]
        }
      ],
      "source": [
        "!pip install img2vec-pytorch\n",
        "!pip install pillow\n",
        "!pip install scikit-learn\n",
        "import os\n",
        "import pickle\n",
        "\n",
        "from img2vec_pytorch import Img2Vec\n",
        "from PIL import Image\n",
        "from sklearn.neighbors import KNeighborsClassifier\n",
        "from sklearn.metrics import accuracy_score\n",
        "\n",
        "# Initialize the Img2Vec model\n",
        "img2vec = Img2Vec()\n",
        "\n",
        "data_dir = '/content/drive/MyDrive/weather_dataset'\n",
        "train_dir = os.path.join(data_dir, 'train')\n",
        "val_dir = os.path.join(data_dir, 'val')\n",
        "\n",
        "data = {}\n",
        "for j, dir_ in enumerate([train_dir, val_dir]):\n",
        "    features = []\n",
        "    labels = []\n",
        "    for category in os.listdir(dir_):\n",
        "        for img_path in os.listdir(os.path.join(dir_, category)):\n",
        "            img_path_ = os.path.join(dir_, category, img_path)\n",
        "            img = Image.open(img_path_)\n",
        "\n",
        "            # Ensure the image is in RGB format\n",
        "            img = img.convert('RGB')\n",
        "\n",
        "            img_features = img2vec.get_vec(img)\n",
        "\n",
        "            features.append(img_features)\n",
        "            labels.append(category)\n",
        "\n",
        "    data[['training_data', 'validation_data'][j]] = features\n",
        "    data[['training_labels', 'validation_labels'][j]] = labels\n",
        "\n",
        "# Train model with KNN\n",
        "knn = KNeighborsClassifier(n_neighbors=5)  # You can adjust the number of neighbors\n",
        "knn.fit(data['training_data'], data['training_labels'])\n",
        "\n",
        "# Test performance\n",
        "y_pred = knn.predict(data['validation_data'])\n",
        "score = accuracy_score(y_pred, data['validation_labels'])\n",
        "\n",
        "print(\"Accuracy:\", score)\n",
        "\n",
        "# Save the model\n",
        "with open('/content/drive/MyDrive/weather_dataset/knn_model.p', 'wb') as f:\n",
        "    pickle.dump(knn, f)\n"
      ]
    },
    {
      "cell_type": "code",
      "source": [
        "import os\n",
        "import pickle\n",
        "from img2vec_pytorch import Img2Vec\n",
        "from PIL import Image\n",
        "\n",
        "# Load the trained KNN model\n",
        "with open('/content/drive/MyDrive/weather_dataset/knn_model.p', 'rb') as f:\n",
        "    knn_model = pickle.load(f)\n",
        "\n",
        "# Initialize the Img2Vec model\n",
        "img2vec = Img2Vec()\n",
        "\n",
        "def predict_weather(image_path):\n",
        "    # Open the image\n",
        "    img = Image.open(image_path)\n",
        "\n",
        "    # Ensure the image is in RGB format\n",
        "    img = img.convert('RGB')\n",
        "\n",
        "    # Convert the image to a vector\n",
        "    img_vector = img2vec.get_vec(img)\n",
        "\n",
        "    # Reshape the vector to match the model's expected input\n",
        "    img_vector = img_vector.reshape(1, -1)\n",
        "\n",
        "    # Predict the label using the KNN model\n",
        "    prediction = knn_model.predict(img_vector)\n",
        "\n",
        "    return prediction[0]\n",
        "\n",
        "# Example usage\n",
        "new_image_path = '/content/drive/MyDrive/weather_dataset/sun.jpg'\n",
        "predicted_label = predict_weather(new_image_path)\n",
        "print(f'The predicted weather condition is: {predicted_label}')\n"
      ],
      "metadata": {
        "colab": {
          "base_uri": "https://localhost:8080/"
        },
        "id": "B5vraVt3JPsQ",
        "outputId": "c8f75145-4def-4dd6-da3c-d9269a677128"
      },
      "execution_count": null,
      "outputs": [
        {
          "output_type": "stream",
          "name": "stderr",
          "text": [
            "/usr/local/lib/python3.10/dist-packages/torchvision/models/_utils.py:208: UserWarning: The parameter 'pretrained' is deprecated since 0.13 and may be removed in the future, please use 'weights' instead.\n",
            "  warnings.warn(\n",
            "/usr/local/lib/python3.10/dist-packages/torchvision/models/_utils.py:223: UserWarning: Arguments other than a weight enum or `None` for 'weights' are deprecated since 0.13 and may be removed in the future. The current behavior is equivalent to passing `weights=ResNet18_Weights.IMAGENET1K_V1`. You can also use `weights=ResNet18_Weights.DEFAULT` to get the most up-to-date weights.\n",
            "  warnings.warn(msg)\n"
          ]
        },
        {
          "output_type": "stream",
          "name": "stdout",
          "text": [
            "The predicted weather condition is: Sunrise\n"
          ]
        }
      ]
    },
    {
      "cell_type": "code",
      "source": [],
      "metadata": {
        "id": "2XeCPa-y0KRq"
      },
      "execution_count": null,
      "outputs": []
    },
    {
      "cell_type": "code",
      "source": [
        "import os\n",
        "import pickle\n",
        "import matplotlib.pyplot as plt\n",
        "\n",
        "from img2vec_pytorch import Img2Vec\n",
        "from PIL import Image\n",
        "from sklearn.neighbors import KNeighborsClassifier\n",
        "from sklearn.metrics import accuracy_score\n",
        "\n",
        "# Initialize the Img2Vec model\n",
        "img2vec = Img2Vec()\n",
        "\n",
        "data_dir = '/content/drive/MyDrive/weather_dataset'\n",
        "train_dir = os.path.join(data_dir, 'train')\n",
        "val_dir = os.path.join(data_dir, 'val')\n",
        "\n",
        "data = {}\n",
        "for j, dir_ in enumerate([train_dir, val_dir]):\n",
        "    features = []\n",
        "    labels = []\n",
        "    for category in os.listdir(dir_):\n",
        "        for img_path in os.listdir(os.path.join(dir_, category)):\n",
        "            img_path_ = os.path.join(dir_, category, img_path)\n",
        "            img = Image.open(img_path_)\n",
        "\n",
        "            # Ensure the image is in RGB format\n",
        "            img = img.convert('RGB')\n",
        "\n",
        "            img_features = img2vec.get_vec(img)\n",
        "\n",
        "            features.append(img_features)\n",
        "            labels.append(category)\n",
        "\n",
        "    data[['training_data', 'validation_data'][j]] = features\n",
        "    data[['training_labels', 'validation_labels'][j]] = labels\n",
        "\n",
        "# Initialize variables to store results\n",
        "k_values = list(range(1, 21))  # Testing k values from 1 to 20\n",
        "accuracies = []\n",
        "\n",
        "# Train and evaluate the model for different values of k\n",
        "for k in k_values:\n",
        "    knn = KNeighborsClassifier(n_neighbors=k)\n",
        "    knn.fit(data['training_data'], data['training_labels'])\n",
        "\n",
        "    y_pred = knn.predict(data['validation_data'])\n",
        "    score = accuracy_score(y_pred, data['validation_labels'])\n",
        "\n",
        "    accuracies.append(score)\n",
        "\n",
        "# Plot the accuracy for different values of k\n",
        "plt.figure(figsize=(10, 6))\n",
        "plt.plot(k_values, accuracies, marker='o')\n",
        "plt.title('KNN Accuracy for Different Values of k')\n",
        "plt.xlabel('Number of Neighbors (k)')\n",
        "plt.ylabel('Accuracy')\n",
        "plt.grid(True)\n",
        "plt.show()\n",
        "\n",
        "# Save the best model (the one with the highest accuracy)\n",
        "best_k = k_values[accuracies.index(max(accuracies))]\n",
        "best_knn = KNeighborsClassifier(n_neighbors=best_k)\n",
        "best_knn.fit(data['training_data'], data['training_labels'])\n",
        "\n",
        "with open('./best_knn_model.p', 'wb') as f:\n",
        "    pickle.dump(best_knn, f)\n"
      ],
      "metadata": {
        "id": "51QpUvtpKar2",
        "colab": {
          "base_uri": "https://localhost:8080/"
        },
        "outputId": "15929324-8fdf-414b-b175-03e049ada1f3"
      },
      "execution_count": null,
      "outputs": [
        {
          "output_type": "stream",
          "name": "stderr",
          "text": [
            "/usr/local/lib/python3.10/dist-packages/torchvision/models/_utils.py:208: UserWarning: The parameter 'pretrained' is deprecated since 0.13 and may be removed in the future, please use 'weights' instead.\n",
            "  warnings.warn(\n",
            "/usr/local/lib/python3.10/dist-packages/torchvision/models/_utils.py:223: UserWarning: Arguments other than a weight enum or `None` for 'weights' are deprecated since 0.13 and may be removed in the future. The current behavior is equivalent to passing `weights=ResNet18_Weights.IMAGENET1K_V1`. You can also use `weights=ResNet18_Weights.DEFAULT` to get the most up-to-date weights.\n",
            "  warnings.warn(msg)\n"
          ]
        },
        {
          "output_type": "display_data",
          "data": {
            "text/plain": [
              "<Figure size 1000x600 with 1 Axes>"
            ],
            "image/png": "[encoded data removed]"
          },
          "metadata": {}
        }
      ]
    }
  ]
}